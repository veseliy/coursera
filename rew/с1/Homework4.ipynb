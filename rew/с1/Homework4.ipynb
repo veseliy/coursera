{
 "cells": [
  {
   "cell_type": "markdown",
   "metadata": {},
   "source": [
    "# Центральная предельная теорема своими руками"
   ]
  },
  {
   "cell_type": "code",
   "execution_count": 6,
   "metadata": {
    "collapsed": true
   },
   "outputs": [],
   "source": [
    "import pandas as pd\n",
    "import numpy as np\n",
    "import matplotlib.pyplot as plt\n",
    "import scipy.stats as sts\n",
    "%matplotlib inline"
   ]
  },
  {
   "cell_type": "markdown",
   "metadata": {},
   "source": [
    "Распределение Парето"
   ]
  },
  {
   "cell_type": "code",
   "execution_count": 7,
   "metadata": {
    "collapsed": true
   },
   "outputs": [],
   "source": [
    "pareto = sts.pareto(3, loc=5, scale=1)\n",
    "sample=pareto.rvs(size=1000)"
   ]
  },
  {
   "cell_type": "code",
   "execution_count": 8,
   "metadata": {},
   "outputs": [
    {
     "data": {
      "text/plain": [
       "[<matplotlib.lines.Line2D at 0xef6b6d8>]"
      ]
     },
     "execution_count": 8,
     "metadata": {},
     "output_type": "execute_result"
    },
    {
     "data": {
      "image/png": "[encoded data removed]",
      "text/plain": [
       "<matplotlib.figure.Figure at 0xef6b9e8>"
      ]
     },
     "metadata": {},
     "output_type": "display_data"
    }
   ],
   "source": [
    "#Построим гистограмму распределения и график теоретической плотности\n",
    "plt.hist(sample,width=3,bins=50, normed=True)\n",
    "plt.ylabel('F(x)')\n",
    "plt.xlabel('$x$')\n",
    "x = np.linspace(5,50,100)\n",
    "cdf = pareto.cdf(x)\n",
    "plt.plot(x, cdf)"
   ]
  },
  {
   "cell_type": "markdown",
   "metadata": {},
   "source": [
    "Зададим три распределения разной размерности и построим теоретическую плотность распределения"
   ]
  },
  {
   "cell_type": "code",
   "execution_count": 9,
   "metadata": {},
   "outputs": [
    {
     "data": {
      "text/plain": [
       "[<matplotlib.lines.Line2D at 0xf787518>]"
      ]
     },
     "execution_count": 9,
     "metadata": {},
     "output_type": "execute_result"
    },
    {
     "data": {
      "image/png": "[encoded data removed]",
      "text/plain": [
       "<matplotlib.figure.Figure at 0x91f1198>"
      ]
     },
     "metadata": {},
     "output_type": "display_data"
    }
   ],
   "source": [
    "#Сгенерируем список из 1000 элементов с размерностью 10\n",
    "data_n10=np.array([pareto.rvs(10) for x in xrange(1000)])\n",
    "#Найдём среднее значение для каждой выборки для получения массива средних значений\n",
    "data_n10_av=np.average(data_n10, 1)\n",
    "\n",
    "#Построим гистoграмму распределения выборочных средних и плотность теоретического нормального распределения\n",
    "plt.hist(data_n10_av, width=2, bins=20, normed=True)\n",
    "plt.ylabel('$f(x)$')\n",
    "plt.xlabel('$x$')\n",
    "plt.legend(loc='middle')\n",
    "x = np.linspace(5,50,100)\n",
    "cdf = pareto.cdf(x)\n",
    "plt.plot(x, cdf)\n"
   ]
  },
  {
   "cell_type": "code",
   "execution_count": 10,
   "metadata": {},
   "outputs": [
    {
     "data": {
      "text/plain": [
       "[<matplotlib.lines.Line2D at 0x10147390>]"
      ]
     },
     "execution_count": 10,
     "metadata": {},
     "output_type": "execute_result"
    },
    {
     "data": {
      "image/png": "[encoded data removed]",
      "text/plain": [
       "<matplotlib.figure.Figure at 0xedf0cf8>"
      ]
     },
     "metadata": {},
     "output_type": "display_data"
    }
   ],
   "source": [
    "#Сгенерируем список из 1000 элементов с размерностью 50\n",
    "data_n50=np.array([pareto.rvs(50) for x in xrange(1000)])\n",
    "#Найдём среднее значение для каждой выборки для получения массива средних значений\n",
    "data_n50_av=np.average(data_n50, 1)\n",
    "\n",
    "#Построим гистограмму распределения выборочных средних и плотность теоретического нормального распределения\n",
    "plt.hist(data_n50_av, width=2 , bins=20, normed=True)\n",
    "plt.ylabel('$f(x)$')\n",
    "plt.xlabel('$x$')\n",
    "plt.legend(loc='middle')\n",
    "x = np.linspace(5,50,100)\n",
    "cdf = pareto.cdf(x)\n",
    "plt.plot(x, cdf)"
   ]
  },
  {
   "cell_type": "code",
   "execution_count": 11,
   "metadata": {},
   "outputs": [
    {
     "data": {
      "text/plain": [
       "[<matplotlib.lines.Line2D at 0x1032e940>]"
      ]
     },
     "execution_count": 11,
     "metadata": {},
     "output_type": "execute_result"
    },
    {
     "data": {
      "image/png": "[encoded data removed]",
      "text/plain": [
       "<matplotlib.figure.Figure at 0xedfb390>"
      ]
     },
     "metadata": {},
     "output_type": "display_data"
    }
   ],
   "source": [
    "#Сгенерируем список из 1000 элементов с размерностью 90\n",
    "data_n90=np.array([pareto.rvs(90) for x in xrange(1000)])\n",
    "#Найдём среднее значение для каждой выборки для получения массива средних значений\n",
    "data_n90_av=np.average(data_n90, 1)\n",
    "\n",
    "#Построим гистограмму распределения выборочных средних и плотность теоретического нормального распределения\n",
    "plt.hist(data_n50_av,width=2 ,  bins=20, normed=True)\n",
    "plt.ylabel('$f(x)$')\n",
    "plt.xlabel('$x$')\n",
    "plt.legend(loc='middle')\n",
    "x = np.linspace(5,50,100)\n",
    "cdf = pareto.cdf(x)\n",
    "plt.plot(x, cdf)"
   ]
  },
  {
   "cell_type": "markdown",
   "metadata": {},
   "source": [
    "Математическое ожидание для распределения Парето считается по формуле: kx/(k-1), при k>1 , десперсия считается по формуле: (x/(k-1)) * (x/(k-1)) * (k/(k-2)), при k>2\n",
    "\n"
   ]
  },
  {
   "cell_type": "code",
   "execution_count": 12,
   "metadata": {},
   "outputs": [
    {
     "name": "stdout",
     "output_type": "stream",
     "text": [
      "7\n",
      "12\n"
     ]
    }
   ],
   "source": [
    "x=5\n",
    "k=3\n",
    "expect = (k*x/(k-1))\n",
    "variance= (x/(k-1))* (x/(k-1))* (k/(k-2))\n",
    "print expect\n",
    "print variance"
   ]
  },
  {
   "cell_type": "markdown",
   "metadata": {},
   "source": [
    "Согласно ЦПТ мю(m) стремится к математическому ожиданию, а сигма стремится к частному дисперсии и корня из размерности распределения. Имея все данные, рассчитаем параметры для трёх распределений, построенных выше."
   ]
  },
  {
   "cell_type": "code",
   "execution_count": 13,
   "metadata": {},
   "outputs": [
    {
     "name": "stdout",
     "output_type": "stream",
     "text": [
      "3.79746835443\n",
      "1.6973125884\n",
      "1.26448893572\n"
     ]
    }
   ],
   "source": [
    "expect=7\n",
    "variance=12\n",
    "# при n=10 :\n",
    "print 12/3.16\n",
    "# при n=50 :\n",
    "print 12/7.07\n",
    "# при n=90 :\n",
    "print 12/9.49\n"
   ]
  },
  {
   "cell_type": "markdown",
   "metadata": {},
   "source": [
    "## Вывод: чем больше размер выборки, тем меньше десперсия, тем ближе распределение к нормальному. То есть с ростом объёма выборки точность аппроксимации повышается"
   ]
  },
  {
   "cell_type": "code",
   "execution_count": null,
   "metadata": {
    "collapsed": true
   },
   "outputs": [],
   "source": []
  }
 ],
 "metadata": {
  "kernelspec": {
   "display_name": "Python 2",
   "language": "python",
   "name": "python2"
  },
  "language_info": {
   "codemirror_mode": {
    "name": "ipython",
    "version": 2
   },
   "file_extension": ".py",
   "mimetype": "text/x-python",
   "name": "python",
   "nbconvert_exporter": "python",
   "pygments_lexer": "ipython2",
   "version": "2.7.14"
  }
 },
 "nbformat": 4,
 "nbformat_minor": 2
}
