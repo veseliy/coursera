{
 "cells": [
  {
   "cell_type": "code",
   "execution_count": 90,
   "metadata": {
    "collapsed": true
   },
   "outputs": [],
   "source": [
    "import pandas as pd\n",
    "import numpy as np\n",
    "from datetime import datetime\n",
    "from sklearn.cluster import MeanShift, estimate_bandwidth"
   ]
  },
  {
   "cell_type": "code",
   "execution_count": 75,
   "metadata": {
    "collapsed": false
   },
   "outputs": [],
   "source": [
    "cords=pd.read_csv(\"D:/datafiles/checkins.csv\",sep=\";\",dtype={'id':int,\"user_id\":int,\"venue_id\":int,\"latitude\":np.float64,\"longitude\":np.float64,\"created_at\":str})"
   ]
  },
  {
   "cell_type": "code",
   "execution_count": 78,
   "metadata": {
    "collapsed": true
   },
   "outputs": [],
   "source": [
    "cords.columns=cords.columns.map(lambda x: x.strip())"
   ]
  },
  {
   "cell_type": "code",
   "execution_count": 79,
   "metadata": {
    "collapsed": true
   },
   "outputs": [],
   "source": [
    "def my_strip(x):\n",
    "    if type(x)==str:\n",
    "        return x.strip() "
   ]
  },
  {
   "cell_type": "code",
   "execution_count": 80,
   "metadata": {
    "collapsed": false
   },
   "outputs": [],
   "source": [
    "cords.latitude=cords.latitude.apply(lambda x: my_strip(x))\n",
    "cords.longitude=cords.longitude.apply(lambda x: my_strip(x))"
   ]
  },
  {
   "cell_type": "code",
   "execution_count": 81,
   "metadata": {
    "collapsed": true
   },
   "outputs": [],
   "source": [
    "cords[[\"latitude\",\"longitude\"]]=cords[[\"latitude\",\"longitude\"]].apply(pd.to_numeric, errors='ignore')"
   ]
  },
  {
   "cell_type": "code",
   "execution_count": 83,
   "metadata": {
    "collapsed": true
   },
   "outputs": [],
   "source": [
    "cords=cords[cords[\"latitude\"].notnull()]"
   ]
  },
  {
   "cell_type": "code",
   "execution_count": null,
   "metadata": {
    "collapsed": true
   },
   "outputs": [],
   "source": []
  },
  {
   "cell_type": "code",
   "execution_count": 84,
   "metadata": {
    "collapsed": false
   },
   "outputs": [
    {
     "data": {
      "text/html": [
       "<div>\n",
       "<style>\n",
       "    .dataframe thead tr:only-child th {\n",
       "        text-align: right;\n",
       "    }\n",
       "\n",
       "    .dataframe thead th {\n",
       "        text-align: left;\n",
       "    }\n",
       "\n",
       "    .dataframe tbody tr th {\n",
       "        vertical-align: top;\n",
       "    }\n",
       "</style>\n",
       "<table border=\"1\" class=\"dataframe\">\n",
       "  <thead>\n",
       "    <tr style=\"text-align: right;\">\n",
       "      <th></th>\n",
       "      <th>id</th>\n",
       "      <th>user_id</th>\n",
       "      <th>venue_id</th>\n",
       "      <th>latitude</th>\n",
       "      <th>longitude</th>\n",
       "      <th>created_at</th>\n",
       "    </tr>\n",
       "  </thead>\n",
       "  <tbody>\n",
       "    <tr>\n",
       "      <th>1</th>\n",
       "      <td>984222</td>\n",
       "      <td>15824.0</td>\n",
       "      <td>5222.0</td>\n",
       "      <td>38.895112</td>\n",
       "      <td>-77.036366</td>\n",
       "      <td>2012-04-21 17:43:47</td>\n",
       "    </tr>\n",
       "    <tr>\n",
       "      <th>3</th>\n",
       "      <td>984234</td>\n",
       "      <td>44652.0</td>\n",
       "      <td>5222.0</td>\n",
       "      <td>33.800745</td>\n",
       "      <td>-84.410520</td>\n",
       "      <td>2012-04-21 17:43:43</td>\n",
       "    </tr>\n",
       "    <tr>\n",
       "      <th>7</th>\n",
       "      <td>984291</td>\n",
       "      <td>105054.0</td>\n",
       "      <td>5222.0</td>\n",
       "      <td>45.523452</td>\n",
       "      <td>-122.676207</td>\n",
       "      <td>2012-04-21 17:39:22</td>\n",
       "    </tr>\n",
       "    <tr>\n",
       "      <th>9</th>\n",
       "      <td>984318</td>\n",
       "      <td>2146539.0</td>\n",
       "      <td>5222.0</td>\n",
       "      <td>40.764462</td>\n",
       "      <td>-111.904565</td>\n",
       "      <td>2012-04-21 17:35:46</td>\n",
       "    </tr>\n",
       "    <tr>\n",
       "      <th>10</th>\n",
       "      <td>984232</td>\n",
       "      <td>93870.0</td>\n",
       "      <td>380645.0</td>\n",
       "      <td>33.448377</td>\n",
       "      <td>-112.074037</td>\n",
       "      <td>2012-04-21 17:38:18</td>\n",
       "    </tr>\n",
       "  </tbody>\n",
       "</table>\n",
       "</div>"
      ],
      "text/plain": [
       "        id    user_id  venue_id   latitude   longitude            created_at\n",
       "1   984222    15824.0    5222.0  38.895112  -77.036366   2012-04-21 17:43:47\n",
       "3   984234    44652.0    5222.0  33.800745  -84.410520   2012-04-21 17:43:43\n",
       "7   984291   105054.0    5222.0  45.523452 -122.676207   2012-04-21 17:39:22\n",
       "9   984318  2146539.0    5222.0  40.764462 -111.904565   2012-04-21 17:35:46\n",
       "10  984232    93870.0  380645.0  33.448377 -112.074037   2012-04-21 17:38:18"
      ]
     },
     "execution_count": 84,
     "metadata": {},
     "output_type": "execute_result"
    }
   ],
   "source": [
    "cords.head()"
   ]
  },
  {
   "cell_type": "code",
   "execution_count": 73,
   "metadata": {
    "collapsed": false
   },
   "outputs": [],
   "source": []
  },
  {
   "cell_type": "code",
   "execution_count": 85,
   "metadata": {
    "collapsed": false
   },
   "outputs": [
    {
     "data": {
      "text/html": [
       "<div>\n",
       "<style>\n",
       "    .dataframe thead tr:only-child th {\n",
       "        text-align: right;\n",
       "    }\n",
       "\n",
       "    .dataframe thead th {\n",
       "        text-align: left;\n",
       "    }\n",
       "\n",
       "    .dataframe tbody tr th {\n",
       "        vertical-align: top;\n",
       "    }\n",
       "</style>\n",
       "<table border=\"1\" class=\"dataframe\">\n",
       "  <thead>\n",
       "    <tr style=\"text-align: right;\">\n",
       "      <th></th>\n",
       "      <th>user_id</th>\n",
       "      <th>venue_id</th>\n",
       "      <th>latitude</th>\n",
       "      <th>longitude</th>\n",
       "    </tr>\n",
       "  </thead>\n",
       "  <tbody>\n",
       "    <tr>\n",
       "      <th>count</th>\n",
       "      <td>3.966340e+05</td>\n",
       "      <td>3.966340e+05</td>\n",
       "      <td>396634.000000</td>\n",
       "      <td>396634.000000</td>\n",
       "    </tr>\n",
       "    <tr>\n",
       "      <th>mean</th>\n",
       "      <td>5.641349e+05</td>\n",
       "      <td>1.327559e+05</td>\n",
       "      <td>37.097070</td>\n",
       "      <td>-86.354065</td>\n",
       "    </tr>\n",
       "    <tr>\n",
       "      <th>std</th>\n",
       "      <td>4.865694e+05</td>\n",
       "      <td>2.287003e+05</td>\n",
       "      <td>8.778760</td>\n",
       "      <td>37.983677</td>\n",
       "    </tr>\n",
       "    <tr>\n",
       "      <th>min</th>\n",
       "      <td>1.000000e+00</td>\n",
       "      <td>1.000000e+00</td>\n",
       "      <td>-75.250973</td>\n",
       "      <td>-159.670833</td>\n",
       "    </tr>\n",
       "    <tr>\n",
       "      <th>25%</th>\n",
       "      <td>1.692900e+05</td>\n",
       "      <td>7.620000e+03</td>\n",
       "      <td>33.800745</td>\n",
       "      <td>-111.926052</td>\n",
       "    </tr>\n",
       "    <tr>\n",
       "      <th>50%</th>\n",
       "      <td>4.298200e+05</td>\n",
       "      <td>2.830400e+04</td>\n",
       "      <td>39.099275</td>\n",
       "      <td>-85.758456</td>\n",
       "    </tr>\n",
       "    <tr>\n",
       "      <th>75%</th>\n",
       "      <td>8.496470e+05</td>\n",
       "      <td>1.485520e+05</td>\n",
       "      <td>40.802071</td>\n",
       "      <td>-74.056530</td>\n",
       "    </tr>\n",
       "    <tr>\n",
       "      <th>max</th>\n",
       "      <td>2.153361e+06</td>\n",
       "      <td>1.143011e+06</td>\n",
       "      <td>78.218590</td>\n",
       "      <td>178.424240</td>\n",
       "    </tr>\n",
       "  </tbody>\n",
       "</table>\n",
       "</div>"
      ],
      "text/plain": [
       "            user_id      venue_id       latitude      longitude\n",
       "count  3.966340e+05  3.966340e+05  396634.000000  396634.000000\n",
       "mean   5.641349e+05  1.327559e+05      37.097070     -86.354065\n",
       "std    4.865694e+05  2.287003e+05       8.778760      37.983677\n",
       "min    1.000000e+00  1.000000e+00     -75.250973    -159.670833\n",
       "25%    1.692900e+05  7.620000e+03      33.800745    -111.926052\n",
       "50%    4.298200e+05  2.830400e+04      39.099275     -85.758456\n",
       "75%    8.496470e+05  1.485520e+05      40.802071     -74.056530\n",
       "max    2.153361e+06  1.143011e+06      78.218590     178.424240"
      ]
     },
     "execution_count": 85,
     "metadata": {},
     "output_type": "execute_result"
    }
   ],
   "source": [
    "cords.describe()"
   ]
  },
  {
   "cell_type": "code",
   "execution_count": 86,
   "metadata": {
    "collapsed": false
   },
   "outputs": [
    {
     "data": {
      "text/plain": [
       "(396634, 6)"
      ]
     },
     "execution_count": 86,
     "metadata": {},
     "output_type": "execute_result"
    }
   ],
   "source": [
    "cords.shape"
   ]
  },
  {
   "cell_type": "code",
   "execution_count": 87,
   "metadata": {
    "collapsed": false
   },
   "outputs": [],
   "source": [
    "X=cords.as_matrix([\"latitude\",\"longitude\"])"
   ]
  },
  {
   "cell_type": "code",
   "execution_count": 142,
   "metadata": {
    "collapsed": false
   },
   "outputs": [
    {
     "data": {
      "text/plain": [
       "array([[  38.8951118,  -77.0363658],\n",
       "       [  33.800745 ,  -84.41052  ],\n",
       "       [  45.5234515, -122.6762071],\n",
       "       ..., \n",
       "       [  29.7628844,  -95.3830615],\n",
       "       [  32.802955 ,  -96.769923 ],\n",
       "       [  37.7749295, -122.4194155]])"
      ]
     },
     "execution_count": 142,
     "metadata": {},
     "output_type": "execute_result"
    }
   ],
   "source": [
    "X[:100000]"
   ]
  },
  {
   "cell_type": "code",
   "execution_count": 155,
   "metadata": {
    "collapsed": false
   },
   "outputs": [
    {
     "data": {
      "text/plain": [
       "MeanShift(bandwidth=0.1, bin_seeding=False, cluster_all=True, min_bin_freq=1,\n",
       "     n_jobs=1, seeds=None)"
      ]
     },
     "execution_count": 155,
     "metadata": {},
     "output_type": "execute_result"
    }
   ],
   "source": [
    "#bandwidth = estimate_bandwidth(X, quantile=0.2, n_samples=100000)\n",
    "ms = MeanShift(bandwidth=0.1)\n",
    "ms.fit(X[:100000])"
   ]
  },
  {
   "cell_type": "code",
   "execution_count": 192,
   "metadata": {
    "collapsed": false
   },
   "outputs": [],
   "source": [
    "#x = np.array([1,1,1,2,2,2,5,25,1,1])\n",
    "labels_df=pd.DataFrame({\"labels_df\":labels})"
   ]
  },
  {
   "cell_type": "code",
   "execution_count": 197,
   "metadata": {
    "collapsed": false
   },
   "outputs": [],
   "source": [
    "labels_df2=pd.DataFrame(labels_df.groupby(\"labels_df\")[\"labels_df\"].count())"
   ]
  },
  {
   "cell_type": "code",
   "execution_count": 203,
   "metadata": {
    "collapsed": false
   },
   "outputs": [
    {
     "data": {
      "text/html": [
       "<div>\n",
       "<style>\n",
       "    .dataframe thead tr:only-child th {\n",
       "        text-align: right;\n",
       "    }\n",
       "\n",
       "    .dataframe thead th {\n",
       "        text-align: left;\n",
       "    }\n",
       "\n",
       "    .dataframe tbody tr th {\n",
       "        vertical-align: top;\n",
       "    }\n",
       "</style>\n",
       "<table border=\"1\" class=\"dataframe\">\n",
       "  <thead>\n",
       "    <tr style=\"text-align: right;\">\n",
       "      <th></th>\n",
       "      <th>count</th>\n",
       "    </tr>\n",
       "    <tr>\n",
       "      <th>labels_df</th>\n",
       "      <th></th>\n",
       "    </tr>\n",
       "  </thead>\n",
       "  <tbody>\n",
       "    <tr>\n",
       "      <th>0</th>\n",
       "      <td>12506</td>\n",
       "    </tr>\n",
       "    <tr>\n",
       "      <th>1</th>\n",
       "      <td>4692</td>\n",
       "    </tr>\n",
       "    <tr>\n",
       "      <th>2</th>\n",
       "      <td>3994</td>\n",
       "    </tr>\n",
       "    <tr>\n",
       "      <th>3</th>\n",
       "      <td>3363</td>\n",
       "    </tr>\n",
       "    <tr>\n",
       "      <th>4</th>\n",
       "      <td>3526</td>\n",
       "    </tr>\n",
       "  </tbody>\n",
       "</table>\n",
       "</div>"
      ],
      "text/plain": [
       "           count\n",
       "labels_df       \n",
       "0          12506\n",
       "1           4692\n",
       "2           3994\n",
       "3           3363\n",
       "4           3526"
      ]
     },
     "execution_count": 203,
     "metadata": {},
     "output_type": "execute_result"
    }
   ],
   "source": [
    "labels_df2.head()"
   ]
  },
  {
   "cell_type": "code",
   "execution_count": 202,
   "metadata": {
    "collapsed": false
   },
   "outputs": [],
   "source": [
    "labels_df2.columns=[\"count\"]"
   ]
  },
  {
   "cell_type": "code",
   "execution_count": 205,
   "metadata": {
    "collapsed": false
   },
   "outputs": [],
   "source": [
    "labels_df2=labels_df2.reset_index()"
   ]
  },
  {
   "cell_type": "code",
   "execution_count": 214,
   "metadata": {
    "collapsed": false
   },
   "outputs": [],
   "source": [
    "labels_df2=labels_df2[labels_df2[\"count\"]>15]"
   ]
  },
  {
   "cell_type": "code",
   "execution_count": 156,
   "metadata": {
    "collapsed": true
   },
   "outputs": [],
   "source": [
    "labels = ms.labels_\n",
    "cluster_centers = ms.cluster_centers_"
   ]
  },
  {
   "cell_type": "code",
   "execution_count": 215,
   "metadata": {
    "collapsed": false
   },
   "outputs": [],
   "source": [
    "cluster_centers=cluster_centers[labels_df2.labels_df]"
   ]
  },
  {
   "cell_type": "code",
   "execution_count": 157,
   "metadata": {
    "collapsed": false
   },
   "outputs": [
    {
     "data": {
      "text/plain": [
       "array([ 5,  7, 30, ..., 25, 19,  4], dtype=int64)"
      ]
     },
     "execution_count": 157,
     "metadata": {},
     "output_type": "execute_result"
    }
   ],
   "source": [
    "labels"
   ]
  },
  {
   "cell_type": "code",
   "execution_count": 218,
   "metadata": {
    "collapsed": false
   },
   "outputs": [
    {
     "data": {
      "text/plain": [
       "array([[  40.7177164 ,  -73.99183542],\n",
       "       [  33.44943805, -112.00213969],\n",
       "       [  33.44638027, -111.90188756],\n",
       "       ..., \n",
       "       [  41.61853175,  -88.44556818],\n",
       "       [  38.65877915,  -76.8856871 ],\n",
       "       [  39.2494686 ,  -77.1821271 ]])"
      ]
     },
     "execution_count": 218,
     "metadata": {},
     "output_type": "execute_result"
    }
   ],
   "source": [
    "cluster_centers"
   ]
  },
  {
   "cell_type": "code",
   "execution_count": 159,
   "metadata": {
    "collapsed": false
   },
   "outputs": [
    {
     "name": "stdout",
     "output_type": "stream",
     "text": [
      "number of estimated clusters : 3230\n"
     ]
    }
   ],
   "source": [
    "labels_unique = np.unique(labels)\n",
    "n_clusters_ = len(labels_unique)\n",
    "\n",
    "print(\"number of estimated clusters : %d\" % n_clusters_)"
   ]
  },
  {
   "cell_type": "code",
   "execution_count": 161,
   "metadata": {
    "collapsed": false
   },
   "outputs": [
    {
     "data": {
      "image/png": "[encoded data removed]",
      "text/plain": [
       "<matplotlib.figure.Figure at 0x5fa8e668>"
      ]
     },
     "metadata": {},
     "output_type": "display_data"
    }
   ],
   "source": [
    "import matplotlib.pyplot as plt\n",
    "from itertools import cycle\n",
    "\n",
    "#plt.figure(1)\n",
    "plt.figure(figsize=(13,10))\n",
    "plt.dpi=100\n",
    "plt.clf()\n",
    "\n",
    "colors = cycle('bgrcmykbgrcmykbgrcmykbgrcmyk')\n",
    "for k, col in zip(range(n_clusters_), colors):\n",
    "    my_members = labels == k\n",
    "    cluster_center = cluster_centers[k]\n",
    "    plt.plot(X[:100000][my_members, 1], X[:100000][my_members, 0], col + '.')\n",
    "    plt.plot(cluster_center[1], cluster_center[0], 'o', markerfacecolor=col,\n",
    "             markeredgecolor='k', markersize=14)\n",
    "plt.title('Estimated number of clusters: %d' % n_clusters_)\n",
    "plt.show()"
   ]
  },
  {
   "cell_type": "code",
   "execution_count": 162,
   "metadata": {
    "collapsed": false
   },
   "outputs": [],
   "source": [
    "offices=pd.read_csv(\"D:/datafiles/offices.csv\",sep=\",\")"
   ]
  },
  {
   "cell_type": "code",
   "execution_count": 163,
   "metadata": {
    "collapsed": false
   },
   "outputs": [
    {
     "data": {
      "text/html": [
       "<div>\n",
       "<style>\n",
       "    .dataframe thead tr:only-child th {\n",
       "        text-align: right;\n",
       "    }\n",
       "\n",
       "    .dataframe thead th {\n",
       "        text-align: left;\n",
       "    }\n",
       "\n",
       "    .dataframe tbody tr th {\n",
       "        vertical-align: top;\n",
       "    }\n",
       "</style>\n",
       "<table border=\"1\" class=\"dataframe\">\n",
       "  <thead>\n",
       "    <tr style=\"text-align: right;\">\n",
       "      <th></th>\n",
       "      <th>latitude</th>\n",
       "      <th>longitude</th>\n",
       "    </tr>\n",
       "  </thead>\n",
       "  <tbody>\n",
       "    <tr>\n",
       "      <th>0</th>\n",
       "      <td>33.751277</td>\n",
       "      <td>-118.188740</td>\n",
       "    </tr>\n",
       "    <tr>\n",
       "      <th>1</th>\n",
       "      <td>25.867736</td>\n",
       "      <td>-80.324116</td>\n",
       "    </tr>\n",
       "    <tr>\n",
       "      <th>2</th>\n",
       "      <td>51.503016</td>\n",
       "      <td>-0.075479</td>\n",
       "    </tr>\n",
       "    <tr>\n",
       "      <th>3</th>\n",
       "      <td>52.378894</td>\n",
       "      <td>4.885084</td>\n",
       "    </tr>\n",
       "    <tr>\n",
       "      <th>4</th>\n",
       "      <td>39.366487</td>\n",
       "      <td>117.036146</td>\n",
       "    </tr>\n",
       "    <tr>\n",
       "      <th>5</th>\n",
       "      <td>-33.868457</td>\n",
       "      <td>151.205134</td>\n",
       "    </tr>\n",
       "  </tbody>\n",
       "</table>\n",
       "</div>"
      ],
      "text/plain": [
       "    latitude   longitude\n",
       "0  33.751277 -118.188740\n",
       "1  25.867736  -80.324116\n",
       "2  51.503016   -0.075479\n",
       "3  52.378894    4.885084\n",
       "4  39.366487  117.036146\n",
       "5 -33.868457  151.205134"
      ]
     },
     "execution_count": 163,
     "metadata": {},
     "output_type": "execute_result"
    }
   ],
   "source": [
    "offices.head(100)"
   ]
  },
  {
   "cell_type": "code",
   "execution_count": 164,
   "metadata": {
    "collapsed": false
   },
   "outputs": [],
   "source": [
    "offices_m=offices.as_matrix()"
   ]
  },
  {
   "cell_type": "code",
   "execution_count": 219,
   "metadata": {
    "collapsed": false
   },
   "outputs": [
    {
     "data": {
      "text/plain": [
       "array([[  3.37512770e+01,  -1.18188740e+02],\n",
       "       [  2.58677360e+01,  -8.03241160e+01],\n",
       "       [  5.15030160e+01,  -7.54790000e-02],\n",
       "       [  5.23788940e+01,   4.88508400e+00],\n",
       "       [  3.93664870e+01,   1.17036146e+02],\n",
       "       [ -3.38684570e+01,   1.51205134e+02]])"
      ]
     },
     "execution_count": 219,
     "metadata": {},
     "output_type": "execute_result"
    }
   ],
   "source": [
    "offices_m"
   ]
  },
  {
   "cell_type": "code",
   "execution_count": 166,
   "metadata": {
    "collapsed": false
   },
   "outputs": [],
   "source": [
    "from math import sqrt"
   ]
  },
  {
   "cell_type": "code",
   "execution_count": 220,
   "metadata": {
    "collapsed": true
   },
   "outputs": [],
   "source": [
    "def dist_fun(x,y):\n",
    "    return sqrt(((x[0]-y[0])**2)+((x[1]-y[1])**2))"
   ]
  },
  {
   "cell_type": "code",
   "execution_count": 231,
   "metadata": {
    "collapsed": false
   },
   "outputs": [],
   "source": [
    "dist=[]\n",
    "mins={}\n",
    "for i  in cluster_centers:\n",
    "    for j in offices_m:\n",
    "        dist.append(dist_fun(i,j))\n",
    "    mins[(i[0],i[1])]=min(dist)\n",
    "    dist=[]"
   ]
  },
  {
   "cell_type": "code",
   "execution_count": 235,
   "metadata": {
    "collapsed": false
   },
   "outputs": [
    {
     "data": {
      "text/plain": [
       "(-33.860630428571433, 151.20477592857145)"
      ]
     },
     "execution_count": 235,
     "metadata": {},
     "output_type": "execute_result"
    }
   ],
   "source": [
    "min(mins, key=mins.get)"
   ]
  },
  {
   "cell_type": "code",
   "execution_count": 236,
   "metadata": {
    "collapsed": false
   },
   "outputs": [
    {
     "data": {
      "text/plain": [
       "0.007834758163109155"
      ]
     },
     "execution_count": 236,
     "metadata": {},
     "output_type": "execute_result"
    }
   ],
   "source": [
    "mins[(-33.860630428571433, 151.20477592857145)]"
   ]
  },
  {
   "cell_type": "code",
   "execution_count": 222,
   "metadata": {
    "collapsed": false
   },
   "outputs": [
    {
     "data": {
      "text/plain": [
       "44.74257091784804"
      ]
     },
     "execution_count": 222,
     "metadata": {},
     "output_type": "execute_result"
    }
   ],
   "source": [
    "dist_fun(cluster_centers[0],offices_m[0])"
   ]
  },
  {
   "cell_type": "code",
   "execution_count": 237,
   "metadata": {
    "collapsed": false
   },
   "outputs": [
    {
     "data": {
      "text/plain": [
       "{(-37.809054056521745, 144.96668138695651): 7.378793679664529,\n",
       " (-34.611995957692294, -58.371865357692322): 64.34049491523207,\n",
       " (-33.860630428571433, 151.20477592857145): 0.007834758163109155,\n",
       " (-33.425740640740756, -70.570739859259234): 60.09030469459146,\n",
       " (-33.050461900000009, -71.616451500000011): 59.55818554009286,\n",
       " (-23.549518346153803, -46.638218881196636): 59.806393402470455,\n",
       " (-22.903539300000009, -43.209586899999984): 61.28723818792244,\n",
       " (-8.6643629454545508, 115.21134018787885): 43.94086423933723,\n",
       " (-7.7974691846153847, 110.36603174230774): 47.63327814873746,\n",
       " (-7.2677153714285669, 112.74167326530616): 46.76577024789979,\n",
       " (-6.9131021012658307, 107.60774275949373): 47.230235602287564,\n",
       " (-6.3146981152542345, 106.81315175593215): 46.81111283497082,\n",
       " (-6.2474466, 107.1484521): 46.67330531605091,\n",
       " (-6.2127666563850035, 106.84465981237784): 46.7047615836499,\n",
       " (-6.1839662238095245, 106.62444716666666): 46.72523152955472,\n",
       " (-0.78927499999999995, 113.92132699999999): 40.27638662049272,\n",
       " (-0.30122619999999967, 36.522964100000031): 61.45039073519734,\n",
       " (1.3508366025641001, 103.82022041282038): 40.24736468721819,\n",
       " (3.1342759214285731, 101.67555986904758): 39.353789219445716,\n",
       " (3.5848877374999977, 98.677329149999949): 40.2165264774817,\n",
       " (9.9589684812500003, -84.105632856249997): 16.352025981502653,\n",
       " (13.73101117118644, 100.51336204745765): 30.49885260976346,\n",
       " (13.786798338297864, 100.61551539148931): 30.39667056785613,\n",
       " (14.594446125806453, 121.01582649354837): 25.089676480645284,\n",
       " (18.433950507692316, -66.11070032692308): 16.040023436432783,\n",
       " (19.430324425438563, -99.141071834210464): 19.887636728553865,\n",
       " (20.676282293749995, -103.34731531250007): 19.779367364079114,\n",
       " (21.158964000000008, -86.845937000000035): 8.04404642602374,\n",
       " (21.305570864864876, -157.85681728378387): 41.574655219188415,\n",
       " (21.37780984137931, -158.00304513448279): 41.69270419230645,\n",
       " (22.396428000000007, 114.10949699999996): 17.220574230631275,\n",
       " (25.264444399999999, 55.311666699999982): 57.25411443652655,\n",
       " (25.673210999999995, -100.30920100000002): 19.619711138364814,\n",
       " (25.705349721052581, -80.28342873815798): 0.1674059642503498,\n",
       " (25.785812419967499, -80.217938036825402): 0.13410903336184438,\n",
       " (25.8456722642857, -80.318890596428574): 0.022674066158382036,\n",
       " (26.010098249285683, -80.199990585714318): 0.18887596060185352,\n",
       " (26.120862658633104, -80.158906680215694): 0.3022701186924635,\n",
       " (26.138843786842077, -80.334346836842073): 0.27130075950667704,\n",
       " (26.142035800000013, -81.794810299999952): 1.4960555151238162,\n",
       " (26.20058464102565, -80.250716125640992): 0.3408456533220606,\n",
       " (26.202689205263152, -98.231603400000026): 17.91061971655017,\n",
       " (26.352571166279048, -80.085278717441994): 0.5404705227859607,\n",
       " (26.488842471428569, -80.070081871428499): 0.6710488710440805,\n",
       " (26.64406870967742, -81.873311974193584): 1.7328302405523412,\n",
       " (26.708357729166693, -80.051922033333398): 0.8835917875562825,\n",
       " (27.336434700000012, -82.530652699999976): 2.650637674188704,\n",
       " (27.664827399999997, -81.515753499999946): 2.1562786070821343,\n",
       " (27.779155250515483, -82.647537118556784): 3.008622483030535,\n",
       " (27.800582800000004, -97.396381000000005): 17.18133082687413,\n",
       " (27.916103902040803, -82.248417848979557): 2.8104712537396956,\n",
       " (27.94944607964624, -82.465073599999798): 2.9861708425168247,\n",
       " (27.954745229411781, -82.790915890196118): 3.2312086317539954,\n",
       " (28.038268273684217, -81.947805794736851): 2.7106417875915243,\n",
       " (28.065487166666674, -80.599304911111091): 2.2149128938590894,\n",
       " (28.291955700000013, -81.407571000000075): 2.655318416102544,\n",
       " (28.32970167241379, -80.672887696551712): 2.4865471377915718,\n",
       " (28.399507407000019, -81.537411048999985): 2.807481314849796,\n",
       " (28.529050371739121, -81.556475686956546): 2.932798080888085,\n",
       " (28.543501546632914, -81.376428622870876): 2.8752535743480307,\n",
       " (28.640402699999978, -81.343875916260103): 2.9542496367266575,\n",
       " (28.664152187499997, -81.190469404166677): 2.9275436315490193,\n",
       " (29.211117730303037, -81.023540215151499): 3.415756962558144,\n",
       " (29.42491663242302, -98.493624107850465): 18.51444190174063,\n",
       " (29.619539792307698, -95.631976138461525): 15.760920458992032,\n",
       " (29.651634399999992, -82.324826200000075): 4.280272001392767,\n",
       " (29.762697754725156, -95.382313704724396): 15.553779128730698,\n",
       " (29.785785299999993, -95.824395599999946): 15.987800911801623,\n",
       " (29.938271747368418, -93.920720473684185): 14.192847300116101,\n",
       " (29.966228185964944, -90.077299020467578): 10.579329715494868,\n",
       " (29.986731291666672, -90.203933655555517): 10.70406087052006,\n",
       " (30.008066829166669, -95.236650462499981): 15.476628297862472,\n",
       " (30.07994050000001, -95.417160100000018): 15.669800475895206,\n",
       " (30.26718361698159, -97.743119281330266): 17.96599050009655,\n",
       " (30.282790375999998, -81.395321335999967): 4.543147148718776,\n",
       " (30.33264489161299, -81.654305327741653): 4.6588426736736395,\n",
       " (30.408167326666661, -86.528319853333343): 7.688150758530445,\n",
       " (30.412753639999977, -87.209840566666728): 8.250478056204297,\n",
       " (30.441642560241, -84.285879945783293): 6.05113169447865,\n",
       " (30.450746199999983, -91.154550999999998): 11.760200031569564,\n",
       " (30.494814026829289, -97.667404936585299): 17.94991705285148,\n",
       " (30.517465916666669, -97.825752099999988): 18.108761815065318,\n",
       " (30.644264789655161, -96.348913758620611): 16.72152416746442,\n",
       " (30.694356599999999, -88.043054100000006): 9.103750425400293,\n",
       " (31.230393000000017, 121.473704): 9.267575010767361,\n",
       " (31.758719800000058, -106.48693139999983): 11.870240465395357,\n",
       " (31.968598800000024, -99.901813099999913): 18.37361251933603,\n",
       " (32.059501878260868, 34.788656713043459): 36.15385674034337,\n",
       " (32.062687936956493, -81.101570208695563): 6.243545831322093,\n",
       " (32.216315999999999, -80.752607999999995): 6.363023920312104,\n",
       " (32.2217131518074, -110.92653515261165): 7.421535205813455,\n",
       " (32.319939599999998, -106.76365379999999): 11.514396268587834,\n",
       " (32.461913871875019, -84.988933390624993): 8.07735743258917,\n",
       " (32.59896002307692, -96.895365361538467): 17.886186912003822,\n",
       " (32.609856600000001, -85.480782500000018): 8.488073961574958,\n",
       " (32.711344433942777, -117.15363874791043): 1.4672744610411987,\n",
       " (32.725324799999981, -114.62439700000003): 3.7090590367819214,\n",
       " (32.726070496000013, -97.321011282000029): 18.328426044979928,\n",
       " (32.783560494047599, -97.123181974999937): 18.16692725985518,\n",
       " (32.784305737362608, -79.920503985714305): 6.928335989967292,\n",
       " (32.792574819230808, -117.22474285769233): 1.3595588850023916,\n",
       " (32.7937055631579, -116.98787850263149): 1.5359073515410948,\n",
       " (32.803020535315468, -96.769897434944085): 17.848302400837376,\n",
       " (32.877584059358334, -97.014731468984323): 18.102889673993722,\n",
       " (32.879502200000012, -111.75735209999996): 6.490203511615168,\n",
       " (32.881621447619068, -97.182908596428533): 18.259613273060193,\n",
       " (32.939877111538472, -96.590483711538454): 17.7372460779145,\n",
       " (32.950110999999993, -96.883916983333378): 18.010748020230416,\n",
       " (32.980893382177889, -117.07811797821928): 1.351655353214334,\n",
       " (33.011823394326207, -96.701586619148955): 17.867835027749102,\n",
       " (33.018236882608662, -117.28299397826089): 1.165214001632887,\n",
       " (33.058106299999977, -112.04764229999999): 6.18009438279739,\n",
       " (33.130695316393457, -117.12432252622948): 1.232114517606195,\n",
       " (33.136918969014111, -96.848268377464663): 18.05238579331485,\n",
       " (33.162209877419308, -96.649548580645131): 17.880970278302634,\n",
       " (33.180450702040865, -117.36769176734687): 0.9999814312198779,\n",
       " (33.207822111538476, -97.125183365384672): 18.33446832447,\n",
       " (33.236237470652199, -111.62403149782597): 6.584881429100054,\n",
       " (33.357344562325096, -111.82265410760392): 6.378262487136821,\n",
       " (33.362778000000006, -112.16861100000003): 6.032651543860429,\n",
       " (33.370319699999989, -112.58377659999998): 5.6178949064363115,\n",
       " (33.446380270379883, -111.90188756212359): 6.294241462747163,\n",
       " (33.449438050201259, -112.00213969017547): 6.193959165601315,\n",
       " (33.451623794545426, -117.64702445272732): 0.6190700911012693,\n",
       " (33.475866976470584, -82.007049129411755): 7.792042150373862,\n",
       " (33.485812769565229, -86.799240813043511): 9.998116573209233,\n",
       " (33.50959430000001, -117.1657184941176): 1.051181967585619,\n",
       " (33.568981403333339, -84.329071623333292): 8.680371553524184,\n",
       " (33.569734603526719, -112.31401583827702): 5.877528529752028,\n",
       " (33.577863100000023, -101.85516650000001): 16.334494043606462,\n",
       " (33.604978651994621, -86.636966341091835): 9.985840139160452,\n",
       " (33.650284360416691, -84.437580006250045): 8.802763492957153,\n",
       " (33.650895992880258, -117.75207397281613): 0.4480553156552331,\n",
       " (33.674302659765758, -117.85878926777275): 0.3388104702511318,\n",
       " (33.707580573684211, -116.23712694210526): 1.9521021759677437,\n",
       " (33.766636232183359, -84.393289184816567): 8.885426004757258,\n",
       " (33.788832247761185, -84.267544989552192): 8.848412171793138,\n",
       " (33.809877955263097, -118.14892380690813): 0.07084773242719973,\n",
       " (33.81730643390889, -117.89124917095801): 0.30473050307840693,\n",
       " (33.820666861904748, -116.53005381428572): 1.660136987002737,\n",
       " (33.828294868181807, -84.624147163636351): 9.047693932822432,\n",
       " (33.833371599999985, -111.95070420000002): 6.2385759725622085,\n",
       " (33.872986011570177, -118.36209114655645): 0.21181053682436798,\n",
       " (33.883084039534886, -117.56395783255817): 0.638534143507026,\n",
       " (33.888325342758598, -118.04892817172427): 0.19577945647763628,\n",
       " (33.924315210389608, -84.279009467532291): 8.974945733140208,\n",
       " (33.932308053333323, -83.992203993333348): 8.859581927508833,\n",
       " (33.95512936800003, -117.39706508400009): 0.8174992113529387,\n",
       " (33.955679228571391, -83.381578342857196): 8.646554322190063,\n",
       " (33.968046954198464, -84.568067075572401): 9.144733910101472,\n",
       " (33.97257482142858, -118.16837066666663): 0.2222332907317907,\n",
       " (33.983935874038437, -118.00740497307689): 0.2949788868004569,\n",
       " (33.999773342352981, -84.15205565058821): 8.98794488779102,\n",
       " (34.000301511320806, -81.03703146226411): 8.163753441417736,\n",
       " (34.005007900000003, -118.81008930000004): 0.6711589396151707,\n",
       " (34.035486953121158, -118.43899771946148): 0.37868750125029754,\n",
       " (34.048928099999742, -111.09373110000084): 7.101249711733725,\n",
       " (34.056012232592614, -84.316890272592545): 9.109891001165604,\n",
       " (34.060397554582408, -118.24870902659876): 0.3148837903362732,\n",
       " (34.061885573743069, -117.67178457765387): 0.6030925258828592,\n",
       " (34.068120212962924, -117.22684049074068): 1.0127390026625671,\n",
       " (34.075078825600066, -117.81647188640012): 0.49338744477858587,\n",
       " (34.077501673809508, -84.04649003333337): 9.01422880022997,\n",
       " (34.091297534634215, -117.98038945268247): 0.3987780266519801,\n",
       " (34.098657365625009, -117.35580912187508): 0.9024671551672678,\n",
       " (34.101487299999995, -84.51937540000003): 9.240934038480106,\n",
       " (34.127402219115268, -118.35188372510652): 0.409982994154806,\n",
       " (34.13146014917951, -118.11801180610205): 0.3867062248427277,\n",
       " (34.160210384964344, -118.22361657326915): 0.41041794393202896,\n",
       " (34.164182639622638, -118.82645039433979): 0.7597141661711925,\n",
       " (34.198182070921952, -118.54927680780146): 0.5742046083021494,\n",
       " (34.207319599999998, -84.14019260000002): 9.171210129446205,\n",
       " (34.225725499999982, -77.94471019999996): 8.690084029696367,\n",
       " (34.265900000000002, -119.25836600000001): 1.1869863571267487,\n",
       " (34.269447399999997, -118.78148200000001): 0.7873014937113821,\n",
       " (34.393179874418642, -118.5424772569766): 0.7329183768744256,\n",
       " (34.4219613642857, -119.69346761428565): 1.6474291212950902,\n",
       " (34.423556563636367, -119.84582048181814): 1.7882604773650135,\n",
       " (34.483901000000017, -114.32245479999999): 3.935085662741679,\n",
       " (34.540024200000019, -112.46850249999993): 5.7743605015546855,\n",
       " (34.610024299999992, -112.31572099999995): 5.935469577010632,\n",
       " (34.686784600000003, -118.15416320000003): 0.9361463693012967,\n",
       " (34.73036879999998, -86.586103699999981): 10.85167038306023,\n",
       " (34.75143575945949, -92.284849924324348): 14.898969005427988,\n",
       " (34.852567333333361, -82.392033508771888): 9.219733017367385,\n",
       " (34.869739500000001, -111.76098959999995): 6.524333955938113,\n",
       " (34.935238425000001, -82.234904474999979): 9.266645176306994,\n",
       " (34.953033699999999, -120.43571909999996): 2.548162915088343,\n",
       " (35.045629699999985, -85.309680100000008): 10.444595835345105,\n",
       " (35.084490900000048, -106.65113670000009): 11.614376832672596,\n",
       " (35.111360342857161, -89.797982121428589): 13.236265722574998,\n",
       " (35.149534300000049, -90.048980100000165): 13.443390995033797,\n",
       " (35.201351599999938, -111.63924899999985): 6.708095758458422,\n",
       " (35.221997099999989, -101.83129690000004): 16.423427242274375,\n",
       " (35.227263380975849, -80.843181617073739): 9.373909638462749,\n",
       " (35.282752400000007, -120.65961560000002): 2.9069989906225757,\n",
       " (35.3732921, -119.01871250000002): 1.8220283574588783,\n",
       " (35.40875170000001, -80.579510999999968): 9.544433309195037,\n",
       " (35.468542617894812, -97.51679603999979): 19.691717412963754,\n",
       " (35.528078299999997, -108.74258430000003): 9.611809422180793,\n",
       " (35.547746460606056, -80.828389357575787): 9.69313644475324,\n",
       " (35.60059031363636, -82.550435940909082): 9.984235252124188,\n",
       " (35.6528323, -97.478095400000015): 19.748597895949437,\n",
       " (35.680005622413788, 139.70605629137927): 22.967694215277106,\n",
       " (35.77131422276117, -78.636714096641569): 10.046302145456655,\n",
       " (35.789104167272789, -78.804169639999969): 10.037120266682633,\n",
       " (35.845621299999976, -86.390270000000015): 11.677175146912537,\n",
       " (35.913006194936763, -79.057075196202462): 10.124862749083212,\n",
       " (35.925063700000003, -86.868889899999985): 11.999329392399742,\n",
       " (35.963493563934357, -83.917127509835993): 10.71606515935545,\n",
       " (35.99403290000005, -78.898618999999883): 10.226139574832725,\n",
       " (36.033116399999969, -86.782777200000041): 12.043639947004788,\n",
       " (36.033668999999946, -115.00236399999996): 3.9194776763033095,\n",
       " (36.05727738888887, -94.165860655555591): 17.18780523584908,\n",
       " (36.07254132916669, -79.794479833333298): 10.218540320184205,\n",
       " (36.083792770543091, -86.650552915762702): 12.01630642036414,\n",
       " (36.099859599999981, -80.244216000000037): 10.232435554435543,\n",
       " (36.117229142990276, -115.17107342280688): 3.834584868539052,\n",
       " (36.153981599999973, -95.992775000000023): 18.743364783352014,\n",
       " (36.164203997959305, -86.781439808163285): 12.153776532274751,\n",
       " (36.198726400000005, -86.587860635714335): 12.081550376765904,\n",
       " (36.256130044827586, -94.124312324137918): 17.27322058607945,\n",
       " (36.359582684999992, -94.179476004999941): 17.379581345064018,\n",
       " (36.596899349999994, -121.89279977916669): 4.670934104272927,\n",
       " (36.67773720000001, -121.65550130000003): 4.536805397343155,\n",
       " (36.747727200000028, -119.77236609999999): 3.3891865433583583,\n",
       " (36.778260999999958, -119.41793239999983): 3.267039346636811,\n",
       " (36.811582122388081, -76.284588634328301): 11.665571108544977,\n",
       " (36.825227700000013, -119.70291939999998): 3.426647364613827,\n",
       " (36.852926300000021, -75.977985000000075): 11.813689542068346,\n",
       " (36.973905175000034, -122.02007963749995): 5.006445422870631,\n",
       " (36.998921759090884, -76.391668309090903): 11.805398817707264,\n",
       " (37.090240000000001, -95.71289100000007): 19.04623301418533,\n",
       " (37.130501200000012, -121.65439009999997): 4.840442831962336,\n",
       " (37.204642899999989, -80.412689200000017): 11.337252897903694,\n",
       " (37.213611323076925, -93.296643103846208): 17.23413317538281,\n",
       " (37.270702200000002, -76.707457100000028): 11.962769736030683,\n",
       " (37.347871143924451, -121.9472872235438): 5.20213097371841,\n",
       " (37.390292432025845, -122.0872864361108): 5.333019560158625,\n",
       " (37.431573400000012, -78.656894199999996): 11.683405494291225,\n",
       " (37.542944669035428, -77.468588793400798): 12.019339960794369,\n",
       " (37.543724937380205, -122.30230856198074): 5.595007388007246,\n",
       " (37.56653499999998, 126.97796920000012): 10.10344870538593,\n",
       " (37.591119628947403, -122.0207348359649): 5.424811133850044,\n",
       " (37.637089672727285, -120.99509781818186): 4.793243612753105,\n",
       " (37.659449944444447, -77.513340974074055): 12.122086206341494,\n",
       " (37.681874500000013, -121.76800880000002): 5.316085199623868,\n",
       " (37.684648659154874, -121.90359639577451): 5.410320752993264,\n",
       " (37.688681574061611, -122.40933037359147): 5.77204797983301,\n",
       " (37.69223609999996, -97.337544800000003): 20.71896624225177,\n",
       " (37.69303367865858, -122.09784477804868): 5.551445386519854,\n",
       " (37.793142220000135, -122.26638327200024): 5.7414152532573,\n",
       " (37.915907800000014, -122.06076017311827): 5.686535845428533,\n",
       " (37.93503947767865, -122.52404823482166): 6.024845720891477,\n",
       " (37.957701599999993, -121.29077959999998): 5.226533994479817,\n",
       " (37.974586333333349, -87.556694955555599): 14.102695605524483,\n",
       " (37.975339020833324, -121.7373151625): 5.516800308127746,\n",
       " (38.018268915789484, -121.85146308421051): 5.623411811438085,\n",
       " (38.029305900000033, -78.476678100000015): 12.301089757698024,\n",
       " (38.03171360000001, -84.495135900000022): 12.859228517274987,\n",
       " (38.041182068749997, -122.15005326250001): 5.839117079023626,\n",
       " (38.052927962499972, -122.276567105): 5.934183300467691,\n",
       " (38.253461414912273, -85.759421314034938): 13.5258544244118,\n",
       " (38.304722200000008, -122.29888889999995): 6.13410035535562,\n",
       " (38.408799300000005, -121.3716178): 5.641207766492045,\n",
       " (38.440955818181806, -122.71673953333341): 6.518885425559395,\n",
       " (38.456545844444456, -122.41896017777779): 6.327267787203104,\n",
       " (38.5273511227848, -90.381051920253114): 16.16811105729791,\n",
       " (38.545003715000014, -121.73819720500001): 5.964768416982447,\n",
       " (38.581533087773067, -121.49565145676871): 5.8538053654334075,\n",
       " (38.596697734782623, -122.85768683478267): 6.7288310012281105,\n",
       " (38.610185402380957, -90.551749773809533): 16.339354619549948,\n",
       " (38.624571339999981, -121.29814465333334): 5.780778063759833,\n",
       " (38.645525337999786, -90.229358789999736): 16.167428215246318,\n",
       " (38.658779150000001, -76.885687100000013): 13.24513413165443,\n",
       " (38.720351431914885, -121.244884155319): 5.833671040434208,\n",
       " (38.72894057391305, -75.089601269565208): 13.885630254157746,\n",
       " (38.742388378260884, -77.219132047826065): 13.243775866584137,\n",
       " (38.780919291666656, -90.534779225000023): 16.462318980585536,\n",
       " (38.822386197916664, -77.420152139583323): 13.276142807795813,\n",
       " (38.833881600000026, -104.82136340000012): 14.301035860599944,\n",
       " (38.868320419047592, -77.243399356190224): 13.360614142928823,\n",
       " (38.881395800000014, -94.81912849999992): 19.479751763441193,\n",
       " (38.886165215599299, -77.048783330743035): 13.424131381056705,\n",
       " (38.95160293647055, -92.334396492941153): 17.760473291283372,\n",
       " (38.971668899999997, -95.235250100000016): 19.85081805860619,\n",
       " (38.981804289473665, -76.499607397368408): 13.660367972810318,\n",
       " (38.98522152361123, -77.405972336111034): 13.43815422240888,\n",
       " (38.985897336619658, -94.672202043662182): 19.441032122032933,\n",
       " (38.998542596551722, -76.813618668965518): 13.591970916215447,\n",
       " (39.005656549197866, -77.126530981818206): 13.521446161765994,\n",
       " (39.02460513103447, -84.585628206896558): 13.82981169867096,\n",
       " (39.055823499999995, -95.689018500000046): 20.248601945373014,\n",
       " (39.082462694871801, -77.525443630769232): 13.507833603152404,\n",
       " (39.094356225892803, -77.176914749999938): 13.595894906478154,\n",
       " (39.095610689189172, -76.888144405405342): 13.666841975809664,\n",
       " (39.10009487559828, -94.582438701674207): 19.452380000341925,\n",
       " (39.101961426530629, -76.641612970408289): 13.737013911443128,\n",
       " (39.128567808542599, -84.503092699497557): 13.903722757211419,\n",
       " (39.165324999999982, -86.526385700000006): 14.672900962129427,\n",
       " (39.211519276562463, -76.85037377499998): 13.788525562133763,\n",
       " (39.2494686, -77.182127100000002): 13.745648825196506,\n",
       " (39.286250307826208, -76.614669291015147): 13.921800211040788,\n",
       " (39.331049444117653, -74.575335482352941): 14.639306210836551,\n",
       " (39.346097730434792, -76.491170860869602): 14.012769297181503,\n",
       " (39.347610361290371, -76.772200487096839): 13.939982661645448,\n",
       " (39.356577442857152, -84.4973694142857): 14.119663152157274,\n",
       " (39.362943875555537, -74.425926735555635): 14.727840038636455,\n",
       " (39.372212099999985, -104.85609019999997): 14.469086428930218,\n",
       " (39.413043311764675, -77.41126803823532): 13.854964215706307,\n",
       " (39.417784620512805, -76.597788661538445): 14.053089804438988,\n",
       " (39.529835911538406, -119.81145215769251): 6.002077793634719,\n",
       " (39.565526618632731, -104.79615645278776): 14.600232624750568,\n",
       " (39.587222200000014, -78.842499999999987): 13.799256775763213,\n",
       " (39.618795439080515, -104.9938543114944): 14.440664145588302,\n",
       " (39.641768047619053, -106.56254373333338): 13.033277577537156,\n",
       " (39.670073314999996, -84.128742449999976): 14.317112061483655,\n",
       " (39.694523788461545, -75.752157492307688): 14.56306510124876,\n",
       " (39.712229050000005, -86.376760572222182): 15.109748314553393,\n",
       " (39.729431899999959, -104.8319195000001): 14.633625315608263,\n",
       " (39.735830152625304, -104.98658042770822): 14.495236935243689,\n",
       " (39.735942979487149, -75.550508638461565): 14.666781926108744,\n",
       " (39.74338983636364, -74.96350501363635): 14.875144353374047,\n",
       " (39.753989733962257, -84.189657077358433): 14.41424471086592,\n",
       " (39.755542999999996, -105.22109970000002): 14.290238106796515,\n",
       " (39.768450280601215, -86.158249434153475): 15.075376295085242,\n",
       " (39.854933112658166, -105.03830419493657): 14.497881907529923,\n",
       " (39.856360944736849, -75.111967065789329): 14.928098484298246,\n",
       " (39.918617191176473, -75.338171452941154): 14.909289227689653,\n",
       " (39.923851567272756, -74.990051408181799): 15.034182049922645,\n",
       " (39.941877409999989, -74.148139233333296): 15.369585077388509,\n",
       " (39.951680373007733, -75.162735923916827): 14.999911112795457,\n",
       " (39.961863370967727, -75.602138141935484): 14.864101090920814,\n",
       " (39.962598400000012, -76.727744999999985): 14.546443910611806,\n",
       " (39.975351960714285, -105.09324142678572): 14.499351433689975,\n",
       " (39.976515842708309, -86.051481458333413): 15.226962393836896,\n",
       " (39.996832405120884, -82.999954933153887): 14.380246146063776,\n",
       " (40.012232601562459, -74.931878193750009): 15.13747048455467,\n",
       " (40.014985599999875, -105.27054560000026): 14.356663678651,\n",
       " (40.028986811111118, -76.316317288888897): 14.717454774653776,\n",
       " (40.055476098969052, -75.333518100000077): 15.039881532624456,\n",
       " (40.065524633009652, -74.394306415534061): 15.386352516943134,\n",
       " (40.100428383783786, -83.110031267567578): 14.502787882661844,\n",
       " (40.113073179591836, -74.918282571428577): 15.23655690822969,\n",
       " (40.113841099999981, -88.236702614285761): 16.296028272214667,\n",
       " (40.12107735384614, -75.490863273076926): 15.050517322390283,\n",
       " (40.130470462857147, -82.941109885714269): 14.50083622953652,\n",
       " (40.14561193970583, -75.283213372058867): 15.141612881526676,\n",
       " (40.148409742187482, -74.048735303124971): 15.598655244011097,\n",
       " (40.163120812903237, -105.10637213225797): 14.569148571827883,\n",
       " (40.167241302499988, -75.130148122500003): 15.213584528595726,\n",
       " (40.219491402272702, -74.793584497727366): 15.380496150134228,\n",
       " (40.273525099999979, -76.89054586578942): 14.809326907736933,\n",
       " (40.286235738461542, -111.68892062307694): 9.217013488436441,\n",
       " (40.288065065333313, -74.024991309333302): 15.736100604058926,\n",
       " (40.290735404000003, -75.132053236000004): 15.329071320634522,\n",
       " (40.291521692000003, -74.682392795999931): 15.487886698943047,\n",
       " (40.304131090322592, -74.31252538064517): 15.638053746505841,\n",
       " (40.354230950847459, -74.115674745762746): 15.760814660678047,\n",
       " (40.373159439285722, -74.519875649999989): 15.623588422431895,\n",
       " (40.38786394991309, -75.951441732014146): 15.164247292093105,\n",
       " (40.410240262711874, -74.247119566101688): 15.761164801137191,\n",
       " (40.417455494444454, -3.7009102000000009): 11.663335848215393,\n",
       " (40.41962254642857, -79.850786200000002): 14.559582520103278,\n",
       " (40.420687591304379, -86.889538465217399): 15.965374163032635,\n",
       " (40.439174644478236, -79.995650332822095): 14.575140269112625,\n",
       " (40.488875189595291, -74.422611490173438): 15.76722761556459,\n",
       " (40.496202660000016, -88.992464859999913): 17.00389098945867,\n",
       " (40.511682882142871, -80.196108410714288): 14.64450634982063,\n",
       " (40.525531594871801, -74.647413169230788): 15.718649010964857,\n",
       " (40.532996664383589, -74.295951379452063): 15.855870806951682,\n",
       " (40.563624614545454, -74.526034261818253): 15.798319341428805,\n",
       " (40.5858157527027, -105.08514374054062): 14.778875291885807,\n",
       " (40.59422284038461, -111.87898254807683): 9.308004451897135,\n",
       " (40.609918588148261, -74.119495208889063): 15.994663692112692,\n",
       " (40.615662690625037, -75.366525450000012): 15.55888960477256,\n",
       " (40.624228832876781, -74.22584933904119): 15.966932610708472,\n",
       " (40.629452499999971, -75.491983339999962): 15.532475014311485,\n",
       " (40.631094019999992, -89.404601559999975): 17.33239619995072,\n",
       " (40.646062199999996, -111.49797289999998): 9.60751931252712,\n",
       " (40.647388270833332, -74.602102525000006): 15.848645350780947,\n",
       " (40.694044092307692, -89.59083475384621): 17.484035235348664,\n",
       " (40.708071023981859, -73.58440031945706): 16.299058594856916,\n",
       " (40.717716397275069, -73.991835419896702): 16.143719990900713,\n",
       " (40.724220581012695, -73.400037384810091): 16.390790059518128,\n",
       " (40.725809639354793, -74.299196039354612): 16.033153551459336,\n",
       " (40.759599954773876, -111.89607777939733): 9.4188209697929,\n",
       " (40.766668319314654, -74.192495548909719): 16.111329976502482,\n",
       " (40.766793627777773, -73.062311066666652): 16.574550645059063,\n",
       " (40.766876240041661, -73.833353490452055): 16.251596163078318,\n",
       " (40.793500045161281, -77.857595070967747): 15.12819083119933,\n",
       " (40.807454458823479, -96.681416250000041): 22.153023701011165,\n",
       " (40.813566748888931, -74.431496053333461): 16.065516692913626,\n",
       " (40.85669462105264, -74.611427521052633): 16.040688582511862,\n",
       " (40.867174495744692, -73.38055516808511): 16.528647622057,\n",
       " (40.870148260751968, -73.859388639911558): 16.336005432229666,\n",
       " (40.880313932258069, -73.078147358064541): 16.669779774551134,\n",
       " (40.947984303773559, -74.273485166037759): 16.24881603047927,\n",
       " (40.960488997142853, -72.208619145714295): 17.136291378961957,\n",
       " (40.984718398888894, -73.774239097222249): 16.474952026936474,\n",
       " (41.005270000000003, 28.976959999999998): 26.641655580927246,\n",
       " (41.050868183018949, -73.548519614150877): 16.626370898995294,\n",
       " (41.079273000000043, -85.139351299999944): 15.955480215171711,\n",
       " (41.094262201587298, -81.506680965079397): 15.272378991639052,\n",
       " (41.13075639677421, -73.999617243548371): 16.52147318348772,\n",
       " (41.135089724675325, -73.346499092207836): 16.78628093016034,\n",
       " (41.139981400000003, -104.82024619999999): 15.27447475991296,\n",
       " (41.169186560869569, -81.407344669565219): 15.339744900659326,\n",
       " (41.169909607547197, -73.218111867924492): 16.871627421223724,\n",
       " (41.19053066666666, -111.99542030555557): 9.679860740455233,\n",
       " (41.203321599999988, -77.194524700000045): 15.651662128986892,\n",
       " (41.218337994736835, -73.934795484210554): 16.62721859645523,\n",
       " (41.22039803636364, -73.66661941818181): 16.73399212201686,\n",
       " (41.243690693023247, -73.064781467441833): 17.003467898563965,\n",
       " (41.253527500000068, -95.999382778160793): 21.964438728271336,\n",
       " (41.255845331250001, -75.887470893750006): 16.014922060044984,\n",
       " (41.274174090909085, -73.84626447272727): 16.712896070352503,\n",
       " (41.297705605970123, -72.954145629850842): 17.099720035662525,\n",
       " (41.337697531578947, -81.842869005263168): 15.544334031393188,\n",
       " (41.347678931111162, -73.451406173333368): 16.937023750116744,\n",
       " (41.358070799999993, -72.105278555555557): 17.53567110647018,\n",
       " (41.363862718181821, -81.587007022727235): 15.547502596919983,\n",
       " (41.372843542105279, -71.954879326315762): 17.61966181265666,\n",
       " (41.380586583333333, -81.449698341666689): 15.55363201405695,\n",
       " (41.446015764705876, -75.668076717647068): 16.25919746562721,\n",
       " (41.447730673684205, -74.02841287894735): 16.80393143941204,\n",
       " (41.451704992857138, -81.848197007142929): 15.658317677409237,\n",
       " (41.474165722580658, -81.523974458064529): 15.652485713305667,\n",
       " (41.482906250000013, -72.823185972222205): 17.32332223385873,\n",
       " (41.486200876923085, -70.597742361538451): 18.399423612348293,\n",
       " (41.48748453037534, -81.707469262115623): 15.680886786147289,\n",
       " (41.506295376470597, -73.082884249999978): 17.233687261541128,\n",
       " (41.522727768324685, -90.541078724066793): 18.693985518644332,\n",
       " (41.5311774888889, -87.492653385185221): 17.225891196644785,\n",
       " (41.577224233333325, -73.415722975000023): 17.16140771443609,\n",
       " (41.589843116666664, -83.67160278333337): 16.074523941707643,\n",
       " (41.597101410638324, -93.726459147872291): 20.66484304500532,\n",
       " (41.600321898484886, -93.607651084848612): 20.590448353632553,\n",
       " (41.605020956000004, -87.903899083999988): 17.467548465278018,\n",
       " (41.605641660714284, -88.203818317857085): 17.60032338349455,\n",
       " (41.618531749999988, -88.445568175000005): 17.72133042942967,\n",
       " (41.62184241025642, -87.779723399999995): 17.429226904502023,\n",
       " (41.634590850000002, -72.635234037500013): 17.54173930071435,\n",
       " (41.641870987499992, -88.051726950000003): 17.565286948935146,\n",
       " (41.661910500000012, -83.548378479999982): 16.119919871897203,\n",
       " (41.681168358333366, -86.238944223333476): 16.88341896249474,\n",
       " (41.68137813913043, -91.57016263043478): 19.404763397640156,\n",
       " (41.706869299999994, -73.925647972222194): 17.082697000112823,\n",
       " (41.712166196000005, -71.433390083999981): 18.16840597161323,\n",
       " (41.72070682391309, -87.714618373912984): 17.491032253204875,\n",
       " (41.787551550467377, -88.130763738317853): 17.730884807901894,\n",
       " (41.795003549122761, -72.690923161403532): 17.661921879924037,\n",
       " (41.822486137704914, -71.408106022950918): 18.27701523409755,\n",
       " (41.826902250980403, -88.313238560784342): 17.847158505422236,\n",
       " (41.834299833962255, -72.564616916981123): 17.752210754814804,\n",
       " (41.854356500605974, -87.856899948484951): 17.672432459764778,\n",
       " (41.878002499999994, -93.097702000000012): 20.481531502805606,\n",
       " (41.878243779671152, -87.629843362263287): 17.5985798192534,\n",
       " (41.998122823076912, -91.669786869230748): 19.72089314749726,\n",
       " (42.009040885542177, -88.096172327710846): 17.914982081183837,\n",
       " (42.016666700000016, -94.376666700000001): 21.40705827360391,\n",
       " (42.058436000000022, -70.178637400000056): 19.106792051860975,\n",
       " (42.059813381250009, -70.951257381249988): 18.709191554085514,\n",
       " (42.062429215999991, -71.198006747999983): 18.58908169974506,\n",
       " (42.065200713333283, -87.807621880000042): 17.842665815277496,\n",
       " (42.069406181818216, -88.004800227272654): 17.930059310540287,\n",
       " (42.087314624000008, -88.28416888400001): 18.067572406280675,\n",
       " (42.101790224999995, -75.92552983749998): 16.819395851491723,\n",
       " (42.115474425000002, -79.286367712500009): 16.28084535383316,\n",
       " (42.129224099999995, -80.085059000000001): 16.263245170496894,\n",
       " (42.135342931249994, -71.437065862500049): 18.536846965330724,\n",
       " (42.183299531578953, -88.124873447368401): 18.084508013923482,\n",
       " (42.192315789285701, -88.293059549999981): 18.165791108560107,\n",
       " (42.195567206976754, -71.186769576744197): 18.71066999287064,\n",
       " (42.213335520000008, -87.97050708999997): 18.045662092853657,\n",
       " (42.242848552083352, -70.963814512500036): 18.86158940890963,\n",
       " (42.253048073333346, -83.179628929999993): 16.632270014460467,\n",
       " (42.254939448717963, -71.449731158974402): 18.635856384301178,\n",
       " (42.259057072972993, -71.790836545945993): 18.47950932136102,\n",
       " (42.271033331132131, -83.726623529245472): 16.752469096228733,\n",
       " (42.281779513333319, -71.584806520000001): 18.59560041097941,\n",
       " (42.283679243434342, -85.586164552525361): 17.238687523729638,\n",
       " (42.284991914999999, -89.083953605000005): 18.608090891990365,\n",
       " (42.298562005714288, -88.270688940000056): 18.25157704749916,\n",
       " (42.314925124719096, -83.41802047865167): 16.7356587867732,\n",
       " (42.327371539130482, -71.362850747826045): 18.740967877909284,\n",
       " (42.331551719531305, -83.044535240624867): 16.687058125728697,\n",
       " (42.351674272222226, -72.579574650000012): 18.21258196094921,\n",
       " (42.363218639848895, -71.073687608573863): 18.912201694843972,\n",
       " (42.368712338095222, -87.88839364761904): 18.152149086007626,\n",
       " (42.434621380952358, -71.450714214285725): 18.79358801496751,\n",
       " (42.439221967647036, -82.915279364705881): 16.77284337131056,\n",
       " (42.443961400000013, -76.501880699999973): 17.011194290824264,\n",
       " (42.45466108095237, -83.423598582539611): 16.874029629006618,\n",
       " (42.48118989224136, -83.16129892241365): 16.853974521306995,\n",
       " (42.516913151546461, -83.311735253608319): 16.915110659647127,\n",
       " (42.5226011612245, -70.90788364489795): 19.132432289278864,\n",
       " (42.531566516666651, -82.964341425925923): 16.871693388273048,\n",
       " (42.560626897368422, -71.222776352631612): 19.012811204243455,\n",
       " (42.614251424390218, -71.123833456097529): 19.10735402265254,\n",
       " (42.626973421428502, -83.198547484285697): 17.00395234366594,\n",
       " (42.638247059999983, -71.379054084999979): 19.006950672760894,\n",
       " (42.652639138235287, -83.008416508823572): 16.998189391273748,\n",
       " (42.677206247499981, -73.751230324999966): 18.04885359512365,\n",
       " (42.726130900000015, -87.782852299999988): 18.43470167367197,\n",
       " (42.732846618571443, -84.53367694428556): 17.38253029683267,\n",
       " (42.753148239215676, -71.459544909803881): 19.07086172938694,\n",
       " (42.765354312500008, -78.782600687499993): 16.967786363978295,\n",
       " (42.819780790476194, -73.937869266666681): 18.115075763499355,\n",
       " (42.880642500000015, -71.327285599999996): 19.245309683767292,\n",
       " (42.893250421428569, -87.863381425000057): 18.620114512614403,\n",
       " (42.899936125694481, -78.873414068055453): 17.09386957997091,\n",
       " (42.933130882222216, -78.752936540000022): 17.13757005475695,\n",
       " (42.958100223387007, -85.668054237096854): 17.906373869936157,\n",
       " (42.989515536111135, -71.465884352777792): 19.277541399230433,\n",
       " (43.002180648888853, -88.014377176666798): 18.78108916945938,\n",
       " (43.01644742941177, -88.232134899999977): 18.884254462699733,\n",
       " (43.040532816770465, -87.914332565993647): 18.775418451495728,\n",
       " (43.048884386821697, -76.145176263565943): 17.68206428024549,\n",
       " (43.072837894736949, -89.399903422368155): 19.452132236448964,\n",
       " (43.074149143999996, -70.772261671999999): 19.679902804265787,\n",
       " (43.09617089999999, -88.402631549999981): 19.02843615737061,\n",
       " (43.137369359090918, -77.451194613636375): 17.506967574358832,\n",
       " (43.162201638931421, -77.61107258473298): 17.50597458895972,\n",
       " (43.183538959375021, -87.956407634375026): 18.92323724208022,\n",
       " (43.190097682608695, -70.867358217391299): 19.7356145590159,\n",
       " (43.207267018181803, -88.117326090909117): 19.010351376330124,\n",
       " (43.451575814814795, -80.49993848148145): 17.58471882567533,\n",
       " (43.549974900000031, -96.700326999999945): 23.61707801134671,\n",
       " (43.552116060869537, -79.627965504347799): 17.69807683478284,\n",
       " (43.587066597297373, -116.1958639837836): 10.035652037526697,\n",
       " (43.652950221907311, -79.382608869844788): 17.810117366128367,\n",
       " (43.661614853571379, -70.254313982142932): 20.445611688927606,\n",
       " (43.680856062500006, -72.287952087500003): 19.5419338037362,\n",
       " (43.685271000000014, -79.759923999999984): 17.826465327963636,\n",
       " (43.784439700000007, -88.787867799999972): 19.815230657390714,\n",
       " (44.021630599999988, -92.469899200000043): 21.842251227593554,\n",
       " (44.024706199999997, -88.542613600000038): 19.930360499622036,\n",
       " (44.051762105263144, -123.08334703684199): 11.404261109289411,\n",
       " (44.05817279999998, -121.31530960000003): 10.770679574460546,\n",
       " (44.260170282222198, -88.413884037777677): 20.092933726335527,\n",
       " (44.480551186792418, -73.196783613207472): 19.930774097598725,\n",
       " (44.507896236363621, -88.027641504545429): 20.169280573101595,\n",
       " (44.664686974193543, -93.228284164516154): 22.800064077636883,\n",
       " (44.7630567, -85.620631700000033): 19.62361391069941,\n",
       " (44.78208702413788, -93.183672496551722): 22.87183569266602,\n",
       " (44.873944844897892, -93.481117896938656): 23.115853295345214,\n",
       " (44.884797119631898, -93.327032291411129): 23.037457448886588,\n",
       " (44.886974614754116, -92.970317618032709): 22.839830403242647,\n",
       " (44.899436933333327, -93.629079094444464): 23.22127652305897,\n",
       " (44.942897499999987, -123.03509630000003): 12.195882042827817,\n",
       " (44.962034067796594, -93.119107796609939): 22.984865319970364,\n",
       " (44.977947820336873, -93.267300885260497): 23.080862869316192,\n",
       " (45.048677490789466, -93.403953513157944): 23.216172506330636,\n",
       " (45.099324566666695, -93.274434947058737): 23.18544283873167,\n",
       " (45.401091289473669, -75.705133368421102): 20.072044475230634,\n",
       " (45.408634369565213, -122.63070896086955): 12.474977719061664,\n",
       " (45.427717411904716, -122.78965456904754): 12.550206196092377,\n",
       " (45.506305283505114, -73.559653782474072): 20.770925655718056,\n",
       " (45.5223169, -122.41102696296296): 12.505402333591631,\n",
       " (45.523483214646724, -122.67628042137935): 12.598526032583354,\n",
       " (45.525410799999996, -122.97612223333336): 12.710202806735156,\n",
       " (45.638728099999987, -122.66148609999995): 12.701061031660135,\n",
       " (46.729552999999974, -94.685899799999945): 25.327381279149822,\n",
       " (46.780294654838741, -92.100833045161338): 24.000545282427737,\n",
       " (46.876819922222197, -96.787294377777769): 25.10581111464101,\n",
       " (47.038967372727278, -122.90472724545454): 14.09976067671927,\n",
       " (47.298368290697709, -122.36173786046511): 14.17524580322839,\n",
       " (47.346081570000038, -122.26901950000004): 14.19392095562796,\n",
       " (47.452599650434898, -122.2593132208696): 14.293208482275107,\n",
       " (47.531789725714276, -122.02841032857138): 14.30543949746685,\n",
       " (47.605796816666675, -122.66980361666664): 14.56116926922502,\n",
       " (47.606244717417667, -122.33204382627093): 14.461227370022126,\n",
       " (47.645224584013214, -122.16867481595776): 14.452738861772161,\n",
       " (47.658780199999995, -117.42604660000005): 13.928400715100551,\n",
       " (47.786859069999991, -122.191604392): 14.595221388675363,\n",
       " (47.805292010810781, -122.34446337297295): 14.65555780844825,\n",
       " (47.987896502040812, -122.19901846938781): 14.790661521646832,\n",
       " (48.433061200000004, -123.36190453333327): 15.566515942377954,\n",
       " (48.75955290000001, -122.48822490000009): 15.611979883917666,\n",
       " (48.857765546969702, 2.3457983651515137): 3.5860750184919485,\n",
       " (49.240171978307032, -123.11186022275179): 16.25247613062983,\n",
       " (50.111511800000009, 8.6805059): 4.421114049634596,\n",
       " (51.045000000000023, -114.05722220000004): 17.780390730589872,\n",
       " (51.502991260887086, -0.12553728870967767): 0.05005829482278788,\n",
       " (52.37296399032261, 4.8923172225806466): 0.009353316185992226,\n",
       " (52.523405099999998, 13.411399899999996): 8.527540459277573,\n",
       " (53.342887326315804, -6.269302921052633): 6.461314205516004,\n",
       " (53.543564000000018, -113.490452): 20.342284405182067,\n",
       " (55.686826176470582, 12.589942552941174): 8.384942492644786,\n",
       " (55.748349518181776, 37.623850418181831): 32.911700914314295,\n",
       " (60.169953887500007, 24.937730118750011): 21.51300143016849,\n",
       " (61.218055600000021, -149.90027779999994): 41.95289687616631}"
      ]
     },
     "execution_count": 237,
     "metadata": {},
     "output_type": "execute_result"
    }
   ],
   "source": [
    "mins"
   ]
  },
  {
   "cell_type": "code",
   "execution_count": null,
   "metadata": {
    "collapsed": true
   },
   "outputs": [],
   "source": []
  }
 ],
 "metadata": {
  "anaconda-cloud": {},
  "kernelspec": {
   "display_name": "Python [conda root]",
   "language": "python",
   "name": "conda-root-py"
  },
  "language_info": {
   "codemirror_mode": {
    "name": "ipython",
    "version": 2
   },
   "file_extension": ".py",
   "mimetype": "text/x-python",
   "name": "python",
   "nbconvert_exporter": "python",
   "pygments_lexer": "ipython2",
   "version": "2.7.12"
  }
 },
 "nbformat": 4,
 "nbformat_minor": 1
}
