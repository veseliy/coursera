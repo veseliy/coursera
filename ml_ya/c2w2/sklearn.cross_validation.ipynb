{
 "cells": [
  {
   "cell_type": "markdown",
   "metadata": {},
   "source": [
    "# Sklearn"
   ]
  },
  {
   "cell_type": "markdown",
   "metadata": {},
   "source": [
    "## sklearn.model_selection"
   ]
  },
  {
   "cell_type": "markdown",
   "metadata": {},
   "source": [
    "документация: http://scikit-learn.org/stable/modules/cross_validation.html"
   ]
  },
  {
   "cell_type": "code",
   "execution_count": 1,
   "metadata": {
    "collapsed": false
   },
   "outputs": [],
   "source": [
    "from sklearn import model_selection, datasets\n",
    "\n",
    "import numpy as np"
   ]
  },
  {
   "cell_type": "markdown",
   "metadata": {},
   "source": [
    "### Разовое разбиение данных на обучение и тест с помощью train_test_split"
   ]
  },
  {
   "cell_type": "code",
   "execution_count": 2,
   "metadata": {
    "collapsed": false
   },
   "outputs": [],
   "source": [
    "iris = datasets.load_iris()"
   ]
  },
  {
   "cell_type": "code",
   "execution_count": 3,
   "metadata": {
    "collapsed": false
   },
   "outputs": [],
   "source": [
    "train_data, test_data, train_labels, test_labels = model_selection.train_test_split(iris.data, iris.target, \n",
    "                                                                                     test_size = 0.3)"
   ]
  },
  {
   "cell_type": "code",
   "execution_count": 4,
   "metadata": {
    "collapsed": false
   },
   "outputs": [
    {
     "data": {
      "text/plain": [
       "0.3"
      ]
     },
     "execution_count": 4,
     "metadata": {},
     "output_type": "execute_result"
    }
   ],
   "source": [
    "#убедимся, что тестовая выборка действительно составляет 0.3 от всех данных\n",
    "float(len(test_labels))/len(iris.data)"
   ]
  },
  {
   "cell_type": "code",
   "execution_count": 5,
   "metadata": {
    "collapsed": false
   },
   "outputs": [
    {
     "name": "stdout",
     "output_type": "stream",
     "text": [
      "Размер обучающей выборки: 105 объектов \n",
      "Размер тестовой выборки: 45 объектов\n"
     ]
    }
   ],
   "source": [
    "print 'Размер обучающей выборки: {} объектов \\nРазмер тестовой выборки: {} объектов'.format(len(train_data),\n",
    "                                                                                            len(test_data))"
   ]
  },
  {
   "cell_type": "code",
   "execution_count": 6,
   "metadata": {
    "collapsed": false
   },
   "outputs": [
    {
     "name": "stdout",
     "output_type": "stream",
     "text": [
      "Обучающая выборка:\n",
      "[[ 7.4  2.8  6.1  1.9]\n",
      " [ 7.7  2.6  6.9  2.3]\n",
      " [ 6.7  3.1  4.4  1.4]\n",
      " [ 5.1  3.5  1.4  0.3]\n",
      " [ 5.7  2.8  4.1  1.3]]\n",
      "\n",
      "\n",
      "Тестовая выборка:\n",
      "[[ 4.8  3.   1.4  0.3]\n",
      " [ 5.5  4.2  1.4  0.2]\n",
      " [ 6.3  2.9  5.6  1.8]\n",
      " [ 7.1  3.   5.9  2.1]\n",
      " [ 5.3  3.7  1.5  0.2]]\n"
     ]
    }
   ],
   "source": [
    "print 'Обучающая выборка:\\n', train_data[:5]\n",
    "print '\\n'\n",
    "print 'Тестовая выборка:\\n', test_data[:5]"
   ]
  },
  {
   "cell_type": "code",
   "execution_count": 7,
   "metadata": {
    "collapsed": false
   },
   "outputs": [
    {
     "name": "stdout",
     "output_type": "stream",
     "text": [
      "Метки классов на обучающей выборке:\n",
      "[2 2 1 0 1 1 2 2 0 2 2 0 2 0 0 0 2 2 1 1 1 0 1 2 1 2 0 2 1 0 0 2 2 0 1 2 1\n",
      " 0 1 0 2 2 1 1 1 0 1 2 1 1 0 2 2 0 1 2 2 2 1 0 2 0 1 0 0 1 0 1 2 2 2 0 2 1\n",
      " 0 1 1 1 0 2 0 2 1 1 0 0 1 1 0 1 2 0 2 2 0 1 2 0 0 2 1 1 2 1 1]\n",
      "\n",
      "\n",
      "Метки классов на тестовой выборке:\n",
      "[0 0 2 2 0 2 0 1 0 0 2 2 1 1 1 0 2 0 2 0 1 2 1 0 2 0 0 2 2 0 1 0 0 1 0 2 1\n",
      " 1 0 2 1 2 1 1 0]\n"
     ]
    }
   ],
   "source": [
    "print 'Метки классов на обучающей выборке:\\n', train_labels\n",
    "print '\\n'\n",
    "print 'Метки классов на тестовой выборке:\\n', test_labels"
   ]
  },
  {
   "cell_type": "markdown",
   "metadata": {},
   "source": [
    "### Стратегии проведения кросс-валидации"
   ]
  },
  {
   "cell_type": "code",
   "execution_count": 18,
   "metadata": {
    "collapsed": true
   },
   "outputs": [],
   "source": [
    "#сгенерируем короткое подобие датасета, где элементы совпадают с порядковым номером\n",
    "X = range(0,50)"
   ]
  },
  {
   "cell_type": "markdown",
   "metadata": {},
   "source": [
    "#### KFold"
   ]
  },
  {
   "cell_type": "code",
   "execution_count": 9,
   "metadata": {
    "collapsed": false
   },
   "outputs": [
    {
     "name": "stdout",
     "output_type": "stream",
     "text": [
      "[2 3 4 5 6 7 8 9] [0 1]\n",
      "[0 1 4 5 6 7 8 9] [2 3]\n",
      "[0 1 2 3 6 7 8 9] [4 5]\n",
      "[0 1 2 3 4 5 8 9] [6 7]\n",
      "[0 1 2 3 4 5 6 7] [8 9]\n"
     ]
    }
   ],
   "source": [
    "kf = model_selection.KFold(n_splits = 5)\n",
    "for train_indices, test_indices in kf.split(X):\n",
    "    print train_indices, test_indices"
   ]
  },
  {
   "cell_type": "code",
   "execution_count": 15,
   "metadata": {
    "collapsed": false
   },
   "outputs": [
    {
     "name": "stdout",
     "output_type": "stream",
     "text": [
      "[0 1 2 6 8] [3 4 5 7 9]\n",
      "[3 4 5 7 9] [0 1 2 6 8]\n"
     ]
    }
   ],
   "source": [
    "kf = model_selection.KFold(n_splits = 2, shuffle = True)\n",
    "for train_indices, test_indices in kf.split(X):\n",
    "    print train_indices, test_indices"
   ]
  },
  {
   "cell_type": "code",
   "execution_count": 17,
   "metadata": {
    "collapsed": false
   },
   "outputs": [
    {
     "name": "stdout",
     "output_type": "stream",
     "text": [
      "[1 3 5 7 8] [0 2 4 6 9]\n",
      "[0 2 4 6 9] [1 3 5 7 8]\n"
     ]
    }
   ],
   "source": [
    "kf = model_selection.KFold(n_splits = 2, shuffle = True, random_state = 1)\n",
    "for train_indices, test_indices in kf.split(X):\n",
    "    print train_indices, test_indices"
   ]
  },
  {
   "cell_type": "markdown",
   "metadata": {},
   "source": [
    "#### StratifiedKFold"
   ]
  },
  {
   "cell_type": "code",
   "execution_count": 12,
   "metadata": {
    "collapsed": false
   },
   "outputs": [
    {
     "name": "stdout",
     "output_type": "stream",
     "text": [
      "[0 0 0 0 0 1 1 1 1 1]\n",
      "[3 4 8 9] [0 1 2 5 6 7]\n",
      "[0 1 2 5 6 7] [3 4 8 9]\n"
     ]
    }
   ],
   "source": [
    "y = np.array([0] * 5 + [1] * 5)\n",
    "print y\n",
    "\n",
    "skf = model_selection.StratifiedKFold(n_splits = 2, shuffle = True, random_state = 0)\n",
    "for train_indices, test_indices in skf.split(X, y):\n",
    "    print train_indices, test_indices"
   ]
  },
  {
   "cell_type": "code",
   "execution_count": 13,
   "metadata": {
    "collapsed": false
   },
   "outputs": [
    {
     "name": "stdout",
     "output_type": "stream",
     "text": [
      "[0 1 0 1 0 1 0 1 0 1]\n",
      "[0 2 3 7] [1 4 5 6 8 9]\n",
      "[1 4 5 6 8 9] [0 2 3 7]\n"
     ]
    }
   ],
   "source": [
    "target = np.array([0, 1] * 5)\n",
    "print target\n",
    "\n",
    "skf = model_selection.StratifiedKFold(n_splits = 2,shuffle = True)\n",
    "for train_indices, test_indices in skf.split(X, target):\n",
    "    print train_indices, test_indices"
   ]
  },
  {
   "cell_type": "markdown",
   "metadata": {},
   "source": [
    "#### ShuffleSplit"
   ]
  },
  {
   "cell_type": "code",
   "execution_count": 20,
   "metadata": {
    "collapsed": false
   },
   "outputs": [
    {
     "name": "stdout",
     "output_type": "stream",
     "text": [
      "[14 23  7 12 27 30 36 19  8  6 48 45 25 37  1 28 15 44  3 46 22 21 43 32 38\n",
      " 41 26 39  0  9 40 24  5 33 47 10 17 13 18 29] [16  2 35 42  4 20 31 34 11 49]\n",
      "[ 9 13 18 29 49 38 11 31 15 26  3 47 22 12 10  6  8 33 30 36 14 27 41 23 20\n",
      " 21 19 43 17  5 28 39  7 32 48 44 25 35 24 34] [45 42 40 46  4  2  1  0 16 37]\n",
      "[42  2 31 47 39  4 15 46 19 24 45 29  3 21 35 41 32  0 49 44 36 20 38  8 43\n",
      " 23 10 26 13 28 16 25 40 37 17 27 33  5 14 12] [48  7 18 11 22 30  9  1 34  6]\n",
      "[21 29 14 19 45  3 32 47 25 18  1  5 31 33 24  9  0 23 12 38  4 22 10 41 28\n",
      " 15 39  7 26 34 20 27  8 17 42 49 43 30 11  2] [46 37 13 16 40  6 35 48 36 44]\n",
      "[10 11  9 12 25 40 33 48 44 46 21  3 13 42 29 49 23 16 27 18  4 47 15  2 26\n",
      " 32 28 22 39 43 36  8  5  0  1 41 24  7 35 30] [17 38 45  6 20 37 31 14 19 34]\n",
      "[ 5 19 43 34 44 37 45 27 49 46 21 15 48  1  9 32 13 28 36  8 26 24 29 10  3\n",
      " 12 23 33 16 30 42 38 47  6  2  7  4  0 11 31] [20 35 22 25 41 14 39 40 17 18]\n",
      "[29 43 14 39 21  8  5 20 24 48 46 37  3  2 23 28 45 16 13 44 30 26 27 33  0\n",
      " 36  4 32 34 31  7 18  1 38 42 12 15 41 11 35] [10 19  6 49  9 22 17 25 47 40]\n",
      "[ 9 43 48 36 10 19 44 11 49 23 37 38 35 20  6 14 42  1  0 31 18 13 15 39  4\n",
      " 12 29 33  8  2 30 25 26 28 45 21 32  3 47 17] [24 40  5 27 41 22 34  7 16 46]\n",
      "[23 27 45 44 34 38  3 19  0 43 39 31 10 49 30 24 36 35 26 37 25  4 29 46  1\n",
      " 15  5 14 16 41 18 20  7  2 22 12 40 21  9 11] [42  8 28 13 33 32 47  6 17 48]\n",
      "[ 2 32 17 28  5 19  6 24 22  4 30 35 15  8 38 16 42 29 40  1 47 37 36 27 41\n",
      "  7 44 34 31  0 12 39 11 46 43 21 25 33 20 26] [ 9 18 45  3 48 49 14 23 13 10]\n"
     ]
    }
   ],
   "source": [
    "ss = model_selection.ShuffleSplit(n_splits = 10, test_size = 0.2)\n",
    "\n",
    "for train_indices, test_indices in ss.split(X):\n",
    "    print train_indices, test_indices"
   ]
  },
  {
   "cell_type": "markdown",
   "metadata": {},
   "source": [
    "#### StratifiedShuffleSplit"
   ]
  },
  {
   "cell_type": "code",
   "execution_count": 15,
   "metadata": {
    "collapsed": false
   },
   "outputs": [
    {
     "name": "stdout",
     "output_type": "stream",
     "text": [
      "[0 0 0 0 0 1 1 1 1 1]\n",
      "[4 9 3 8 1 2 7 5] [6 0]\n",
      "[9 7 3 1 4 6 2 5] [0 8]\n",
      "[9 2 1 6 7 4 3 5] [8 0]\n",
      "[3 8 9 2 6 4 1 5] [7 0]\n"
     ]
    }
   ],
   "source": [
    "target = np.array([0] * 5 + [1] * 5)\n",
    "print target\n",
    "\n",
    "sss = model_selection.StratifiedShuffleSplit(n_splits = 4, test_size = 0.2)\n",
    "for train_indices, test_indices in sss.split(X, target):\n",
    "    print train_indices, test_indices"
   ]
  },
  {
   "cell_type": "markdown",
   "metadata": {},
   "source": [
    "#### Leave-One-Out"
   ]
  },
  {
   "cell_type": "code",
   "execution_count": 16,
   "metadata": {
    "collapsed": false
   },
   "outputs": [
    {
     "name": "stdout",
     "output_type": "stream",
     "text": [
      "[1 2 3 4 5 6 7 8 9] [0]\n",
      "[0 2 3 4 5 6 7 8 9] [1]\n",
      "[0 1 3 4 5 6 7 8 9] [2]\n",
      "[0 1 2 4 5 6 7 8 9] [3]\n",
      "[0 1 2 3 5 6 7 8 9] [4]\n",
      "[0 1 2 3 4 6 7 8 9] [5]\n",
      "[0 1 2 3 4 5 7 8 9] [6]\n",
      "[0 1 2 3 4 5 6 8 9] [7]\n",
      "[0 1 2 3 4 5 6 7 9] [8]\n",
      "[0 1 2 3 4 5 6 7 8] [9]\n"
     ]
    }
   ],
   "source": [
    "loo = model_selection.LeaveOneOut()\n",
    "\n",
    "for train_indices, test_index in loo.split(X):\n",
    "    print train_indices, test_index"
   ]
  },
  {
   "cell_type": "markdown",
   "metadata": {},
   "source": [
    "Больше стратегий проведения кросс-валидации доступно здесь: http://scikit-learn.org/stable/modules/cross_validation.html#cross-validation-iterators"
   ]
  },
  {
   "cell_type": "code",
   "execution_count": null,
   "metadata": {
    "collapsed": true
   },
   "outputs": [],
   "source": []
  }
 ],
 "metadata": {
  "anaconda-cloud": {},
  "kernelspec": {
   "display_name": "Python [conda root]",
   "language": "python",
   "name": "conda-root-py"
  },
  "language_info": {
   "codemirror_mode": {
    "name": "ipython",
    "version": 2
   },
   "file_extension": ".py",
   "mimetype": "text/x-python",
   "name": "python",
   "nbconvert_exporter": "python",
   "pygments_lexer": "ipython2",
   "version": "2.7.12"
  }
 },
 "nbformat": 4,
 "nbformat_minor": 0
}
